{
 "cells": [
  {
   "cell_type": "markdown",
   "metadata": {
    "id": "RYp0bXOFK-hP"
   },
   "source": [
    "# Машинное обучение, ФКН ВШЭ\n",
    "\n",
    "## Практическое задание 8. Метод опорных векторов и аппроксимация ядер\n",
    "\n",
    "### Общая информация\n",
    "\n",
    "Дата выдачи: 28.01.2022\n",
    "\n",
    "Мягкий дедлайн: 23:59MSK 14.02.2022\n",
    "\n",
    "Жесткий дедлайн: 23:59MSK 17.02.2022\n",
    "\n",
    "### Оценивание и штрафы\n",
    "Каждая из задач имеет определенную «стоимость» (указана в скобках около задачи). Максимальная оценка за работу (без учёта бонусов) — 10 баллов.\n",
    "\n",
    "Сдавать задание после указанного жёсткого срока сдачи нельзя. При выставлении неполного балла за задание в связи с наличием ошибок на усмотрение проверяющего предусмотрена возможность исправить работу на указанных в ответном письме условиях.\n",
    "\n",
    "Задание выполняется самостоятельно. «Похожие» решения считаются плагиатом и все задействованные студенты (в том числе те, у кого списали) не могут получить за него больше 0 баллов (подробнее о плагиате см. на странице курса). Если вы нашли решение какого-то из заданий (или его часть) в открытом источнике, необходимо указать ссылку на этот источник в отдельном блоке в конце вашей работы (скорее всего вы будете не единственным, кто это нашел, поэтому чтобы исключить подозрение в плагиате, необходима ссылка на источник).\n",
    "\n",
    "Неэффективная реализация кода может негативно отразиться на оценке.\n",
    "\n",
    "### Формат сдачи\n",
    "Задания сдаются через систему anytask. Посылка должна содержать:\n",
    "* Ноутбук homework-practice-08-random-features-Username.ipynb\n",
    "\n",
    "Username — ваша фамилия и имя на латинице именно в таком порядке"
   ]
  },
  {
   "cell_type": "markdown",
   "metadata": {
    "id": "vY8vT0W_K-hR"
   },
   "source": [
    "### О задании\n",
    "\n",
    "На занятиях мы подробно обсуждали метод опорных векторов (SVM). В базовой версии в нём нет чего-то особенного — мы всего лишь используем специальную функцию потерь, которая не требует устремлять отступы к бесконечности; ей достаточно, чтобы отступы были не меньше +1. Затем мы узнали, что SVM можно переписать в двойственном виде, который, позволяет заменить скалярные произведения объектов на ядра. Это будет соответствовать построению модели в новом пространстве более высокой размерности, координаты которого представляют собой нелинейные модификации исходных признаков.\n",
    "\n",
    "Ядровой SVM, к сожалению, довольно затратен по памяти (нужно хранить матрицу Грама размера $d \\times d$) и по времени (нужно решать задачу условной оптимизации с квадратичной функцией, а это не очень быстро). Мы обсуждали, что есть способы посчитать новые признаки $\\tilde \\varphi(x)$ на основе исходных так, что скалярные произведения этих новых $\\langle \\tilde \\varphi(x), \\tilde \\varphi(z) \\rangle$ приближают ядро $K(x, z)$.\n",
    "\n",
    "Мы будем исследовать аппроксимации методом Random Fourier Features (RFF, также в литературе встречается название Random Kitchen Sinks) для гауссовых ядер. Будем использовать формулы, которые немного отличаются от того, что было на лекциях (мы добавим сдвиги внутрь тригонометрических функций и будем использовать только косинусы, потому что с нужным сдвигом косинус превратится в синус):\n",
    "$$\\tilde \\varphi(x) = (\n",
    "\\cos (w_1^T x + b_1),\n",
    "\\dots,\n",
    "\\cos (w_n^T x + b_n)\n",
    "),$$\n",
    "где $w_j \\sim \\mathcal{N}(0, 1/\\sigma^2)$, $b_j \\sim U[-\\pi, \\pi]$.\n",
    "\n",
    "На новых признаках $\\tilde \\varphi(x)$ мы будем строить любую линейную модель.\n",
    "\n",
    "Можно считать, что это некоторая новая парадигма построения сложных моделей. Можно направленно искать сложные нелинейные закономерности в данных с помощью градиентного бустинга или нейронных сетей, а можно просто нагенерировать большое количество случайных нелинейных признаков и надеяться, что быстрая и простая модель (то есть линейная) сможет показать на них хорошее качество. В этом задании мы изучим, насколько работоспособна такая идея.\n",
    "\n",
    "### Алгоритм\n",
    "\n",
    "Вам потребуется реализовать следующий алгоритм:\n",
    "1. Понизить размерность выборки до new_dim с помощью метода главных компонент.\n",
    "2. Для полученной выборки оценить гиперпараметр $\\sigma^2$ с помощью эвристики (рекомендуем считать медиану не по всем парам объектов, а по случайному подмножеству из где-то миллиона пар объектов): $$\\sigma^2 = \\text{median}_{i, j = 1, \\dots, \\ell, i \\neq j} \\left\\{\\sum_{k = 1}^{d} (x_{ik} - x_{jk})^2 \\right\\}$$\n",
    "3. Сгенерировать n_features наборов весов $w_j$ и сдвигов $b_j$.\n",
    "4. Сформировать n_features новых признаков по формулам, приведённым выше.\n",
    "5. Обучить линейную модель (логистическую регрессию или SVM) на новых признаках.\n",
    "6. Повторить преобразования (PCA, формирование новых признаков) к тестовой выборке и применить модель."
   ]
  },
  {
   "cell_type": "markdown",
   "metadata": {
    "id": "N_sGunb7K-hS"
   },
   "source": [
    "Тестировать алгоритм мы будем на данных Fashion MNIST. Ниже код для их загрузки и подготовки."
   ]
  },
  {
   "cell_type": "code",
   "execution_count": 59,
   "metadata": {
    "execution": {
     "iopub.execute_input": "2022-02-17T19:36:19.936466Z",
     "iopub.status.busy": "2022-02-17T19:36:19.935573Z",
     "iopub.status.idle": "2022-02-17T19:36:19.943810Z",
     "shell.execute_reply": "2022-02-17T19:36:19.942909Z",
     "shell.execute_reply.started": "2022-02-17T19:36:19.936407Z"
    }
   },
   "outputs": [],
   "source": [
    "import numpy as np\n",
    "from sklearn.decomposition import PCA\n",
    "from sklearn.svm import SVC, LinearSVC\n",
    "from sklearn.linear_model import LogisticRegression\n",
    "from sklearn.metrics import accuracy_score\n",
    "import time\n",
    "from sklearn.model_selection import train_test_split\n",
    "import lightgbm\n",
    "from lightgbm import LGBMClassifier\n",
    "import warnings\n",
    "warnings.filterwarnings(\"ignore\")\n",
    "from sklearn.preprocessing import StandardScaler\n",
    "import seaborn as sns\n",
    "import matplotlib.pyplot as plt"
   ]
  },
  {
   "cell_type": "code",
   "execution_count": 2,
   "metadata": {
    "execution": {
     "iopub.execute_input": "2022-02-17T17:05:55.185341Z",
     "iopub.status.busy": "2022-02-17T17:05:55.185110Z",
     "iopub.status.idle": "2022-02-17T17:05:58.236817Z",
     "shell.execute_reply": "2022-02-17T17:05:58.235781Z",
     "shell.execute_reply.started": "2022-02-17T17:05:55.185313Z"
    },
    "id": "YyG6dBfjK-hS"
   },
   "outputs": [],
   "source": [
    "from keras.datasets import fashion_mnist\n",
    "(x_train_pics, y_train), (x_test_pics, y_test) = fashion_mnist.load_data()\n",
    "x_train = x_train_pics.reshape(x_train_pics.shape[0], -1)\n",
    "x_test = x_test_pics.reshape(x_test_pics.shape[0], -1)"
   ]
  },
  {
   "cell_type": "markdown",
   "metadata": {
    "id": "rJNN55F7K-hT"
   },
   "source": [
    "__Задание 1. (5 баллов)__\n",
    "\n",
    "Реализуйте алгоритм, описанный выше. Можете воспользоваться шаблоном класса ниже или написать свой интерфейс.\n",
    "\n",
    "Ваша реализация должна поддерживать следующие опции:\n",
    "1. Возможность задавать значения гиперпараметров new_dim (по умолчанию 50) и n_features (по умолчанию 1000).\n",
    "2. Возможность включать или выключать предварительное понижение размерности с помощью метода главных компонент.\n",
    "3. Возможность выбирать тип линейной модели (логистическая регрессия или SVM с линейным ядром).\n",
    "\n",
    "Протестируйте на данных Fashion MNIST, сформированных кодом выше. Если на тесте у вас получилась доля верных ответов не ниже 0.84 с гиперпараметрами по умолчанию, то вы всё сделали правильно."
   ]
  },
  {
   "cell_type": "code",
   "execution_count": 38,
   "metadata": {
    "execution": {
     "iopub.execute_input": "2022-02-17T17:43:43.747846Z",
     "iopub.status.busy": "2022-02-17T17:43:43.747449Z",
     "iopub.status.idle": "2022-02-17T17:43:43.767352Z",
     "shell.execute_reply": "2022-02-17T17:43:43.765953Z",
     "shell.execute_reply.started": "2022-02-17T17:43:43.747808Z"
    },
    "id": "jP8yepx8K-hT"
   },
   "outputs": [],
   "source": [
    "from sklearn.base import BaseEstimator, TransformerMixin\n",
    "\n",
    "\n",
    "class RFFPipeline(BaseEstimator, TransformerMixin):\n",
    "    def __init__(self, n_features=1000, new_dim=50, use_PCA=True, classifier='logreg'):\n",
    "        \"\"\"        \n",
    "        Implements pipeline, which consists of PCA decomposition,\n",
    "        Random Fourier Features approximation and linear classification model.\n",
    "        \n",
    "        n_features, int: amount of synthetic random features generated with RFF approximation.\n",
    "\n",
    "        new_dim, int: PCA output size.\n",
    "        \n",
    "        use_PCA, bool: whether to include PCA preprocessing.\n",
    "        \n",
    "        classifier, string: either 'svm' or 'logreg', a linear classification model to use on top of pipeline.\n",
    "        \n",
    "        Feel free to edit this template for your preferences.    \n",
    "        \"\"\"\n",
    "        self.n_features = n_features\n",
    "        self.use_PCA = use_PCA\n",
    "        self.new_dim = new_dim\n",
    "        self.classifier = classifier\n",
    "        \n",
    "    def fit(self, X, y):\n",
    "        if self.use_PCA:\n",
    "            self.pca = PCA(n_components=self.new_dim)\n",
    "\n",
    "            X_pca = self.pca.fit_transform(X)\n",
    "    \n",
    "            dim = self.new_dim\n",
    "        else:\n",
    "            X_pca = X\n",
    "            dim = len(X.T)\n",
    "        \n",
    "        rand = np.random.randint(len(X) - 1, size=[2, 10**6]).reshape(-1,2)\n",
    "        sigma = np.sqrt(np.median(np.sum((X_pca[rand][:, 0] - X_pca[rand][:, 1]) ** 2, axis=1)))\n",
    "        w = np.random.normal(0, 1 / sigma, size=(self.n_features, dim))\n",
    "        b = np.random.uniform(-np.pi, np.pi, self.n_features)\n",
    "        \n",
    "        X_kernel = np.cos((X_pca @ w.T) + b)\n",
    "        \n",
    "        if self.classifier == 'svm':\n",
    "            model = SVC(kernel='linear', probability=True)\n",
    "        else:\n",
    "            model = LogisticRegression(max_iter=10**4)\n",
    "        \n",
    "        model.fit(X_kernel, y)\n",
    "        \n",
    "        self.w = w\n",
    "        self.b = b\n",
    "        self.model = model\n",
    "        \n",
    "        return self\n",
    "\n",
    "    def predict_proba(self, X):\n",
    "        if self.use_PCA:\n",
    "            X = self.pca.transform(X)\n",
    "        else:\n",
    "            pass\n",
    "        \n",
    "        X = np.cos((X @ self.w.T) + self.b)\n",
    "        \n",
    "        return self.model.predict_proba(X)\n",
    "        \n",
    "    def predict(self, X):\n",
    "        if self.use_PCA:\n",
    "            X = self.pca.transform(X)\n",
    "        else:\n",
    "            pass\n",
    "        \n",
    "        X = np.cos((X @ self.w.T) + self.b)\n",
    "        \n",
    "        return self.model.predict(X)"
   ]
  },
  {
   "cell_type": "markdown",
   "metadata": {
    "id": "HYqQUEi-K-hU"
   },
   "source": [
    "__Задание 2. (3 балла)__\n",
    "\n",
    "Сравните подход со случайными признаками с обучением SVM на исходных признаках. Попробуйте вариант с обычным (линейным) SVM и с ядровым SVM. Ядровой SVM может очень долго обучаться, поэтому можно делать любые разумные вещи для ускорения: брать подмножество объектов из обучающей выборки, например.\n",
    "\n",
    "Сравните подход со случайными признаками с вариантом, в котором вы понижаете размерность с помощью PCA и обучаете градиентный бустинг. Используйте одну из реализаций CatBoost/LightGBM/XGBoost, не забудьте подобрать число деревьев и длину шага.\n",
    "\n",
    "Сделайте выводы — насколько идея со случайными признаками работает? Сравните как с точки зрения качества, так и с точки зрения скорости обучения и применения."
   ]
  },
  {
   "cell_type": "code",
   "execution_count": null,
   "metadata": {},
   "outputs": [],
   "source": [
    "svm_rff = RFFPipeline(classifier='svm').fit(x_train[:15000], y_train[:15000])\n",
    "y_rff = svm_rff.predict(x_test)\n",
    "accuracy_score(y_rff, y_test)"
   ]
  },
  {
   "cell_type": "code",
   "execution_count": 4,
   "metadata": {
    "execution": {
     "iopub.execute_input": "2022-02-17T17:06:05.147442Z",
     "iopub.status.busy": "2022-02-17T17:06:05.147136Z",
     "iopub.status.idle": "2022-02-17T17:06:12.490215Z",
     "shell.execute_reply": "2022-02-17T17:06:12.488930Z",
     "shell.execute_reply.started": "2022-02-17T17:06:05.147408Z"
    },
    "id": "qN8LUlJgK-hV"
   },
   "outputs": [],
   "source": [
    "pca = PCA(n_components=50)\n",
    "x_train_pca = pca.fit_transform(x_train)\n",
    "x_test_pca = pca.transform(x_test)"
   ]
  },
  {
   "cell_type": "code",
   "execution_count": 5,
   "metadata": {
    "execution": {
     "iopub.execute_input": "2022-02-17T17:06:12.492856Z",
     "iopub.status.busy": "2022-02-17T17:06:12.492401Z",
     "iopub.status.idle": "2022-02-17T17:06:12.503362Z",
     "shell.execute_reply": "2022-02-17T17:06:12.502425Z",
     "shell.execute_reply.started": "2022-02-17T17:06:12.492800Z"
    }
   },
   "outputs": [],
   "source": [
    "svm = dict()\n",
    "svm['linear'] = LinearSVC(max_iter=10**4)\n",
    "svm['kernel'] = SVC(kernel='rbf')\n",
    "svm['rff'] = RFFPipeline(classifier='svm', use_PCA=False)"
   ]
  },
  {
   "cell_type": "code",
   "execution_count": 6,
   "metadata": {
    "execution": {
     "iopub.execute_input": "2022-02-17T17:06:34.032025Z",
     "iopub.status.busy": "2022-02-17T17:06:34.031646Z",
     "iopub.status.idle": "2022-02-17T17:13:09.658366Z",
     "shell.execute_reply": "2022-02-17T17:13:09.657321Z",
     "shell.execute_reply.started": "2022-02-17T17:06:34.031990Z"
    }
   },
   "outputs": [],
   "source": [
    "fit_time = dict()\n",
    "prediction_time = dict()\n",
    "accuracy = dict()\n",
    "\n",
    "for model in ['linear', 'kernel', 'rff']:\n",
    "    fit_start = time.time()\n",
    "    svm[model].fit(x_train_pca[:10000], y_train[:10000])\n",
    "    fit_time[model] = time.time() - fit_start\n",
    "    \n",
    "    pred_start = time.time()\n",
    "    y_pred = svm[model].predict(x_test_pca)\n",
    "    prediction_time[model] = time.time() - pred_start\n",
    "    \n",
    "    accuracy[model] = accuracy_score(y_pred, y_test)"
   ]
  },
  {
   "cell_type": "code",
   "execution_count": 7,
   "metadata": {
    "execution": {
     "iopub.execute_input": "2022-02-17T17:13:57.902787Z",
     "iopub.status.busy": "2022-02-17T17:13:57.902070Z",
     "iopub.status.idle": "2022-02-17T17:13:57.910826Z",
     "shell.execute_reply": "2022-02-17T17:13:57.909932Z",
     "shell.execute_reply.started": "2022-02-17T17:13:57.902747Z"
    }
   },
   "outputs": [
    {
     "data": {
      "text/plain": [
       "{'linear': 0.6528, 'kernel': 0.848, 'rff': 0.8528}"
      ]
     },
     "execution_count": 7,
     "metadata": {},
     "output_type": "execute_result"
    }
   ],
   "source": [
    "accuracy"
   ]
  },
  {
   "cell_type": "code",
   "execution_count": 12,
   "metadata": {
    "execution": {
     "iopub.execute_input": "2022-02-17T17:20:11.484493Z",
     "iopub.status.busy": "2022-02-17T17:20:11.483979Z",
     "iopub.status.idle": "2022-02-17T17:20:11.492362Z",
     "shell.execute_reply": "2022-02-17T17:20:11.491186Z",
     "shell.execute_reply.started": "2022-02-17T17:20:11.484439Z"
    }
   },
   "outputs": [
    {
     "data": {
      "text/plain": [
       "{'linear': 185.08938241004944,\n",
       " 'kernel': 2.405912160873413,\n",
       " 'rff': 151.1536545753479}"
      ]
     },
     "execution_count": 12,
     "metadata": {},
     "output_type": "execute_result"
    }
   ],
   "source": [
    "fit_time"
   ]
  },
  {
   "cell_type": "code",
   "execution_count": 13,
   "metadata": {
    "execution": {
     "iopub.execute_input": "2022-02-17T17:20:29.485491Z",
     "iopub.status.busy": "2022-02-17T17:20:29.484972Z",
     "iopub.status.idle": "2022-02-17T17:20:29.491276Z",
     "shell.execute_reply": "2022-02-17T17:20:29.490609Z",
     "shell.execute_reply.started": "2022-02-17T17:20:29.485439Z"
    }
   },
   "outputs": [
    {
     "data": {
      "text/plain": [
       "{'linear': 0.007741689682006836,\n",
       " 'kernel': 3.6356630325317383,\n",
       " 'rff': 53.32275724411011}"
      ]
     },
     "execution_count": 13,
     "metadata": {},
     "output_type": "execute_result"
    }
   ],
   "source": [
    "prediction_time"
   ]
  },
  {
   "cell_type": "code",
   "execution_count": 8,
   "metadata": {
    "execution": {
     "iopub.execute_input": "2022-02-17T17:14:03.981763Z",
     "iopub.status.busy": "2022-02-17T17:14:03.981307Z",
     "iopub.status.idle": "2022-02-17T17:14:04.013380Z",
     "shell.execute_reply": "2022-02-17T17:14:04.012714Z",
     "shell.execute_reply.started": "2022-02-17T17:14:03.981727Z"
    }
   },
   "outputs": [],
   "source": [
    "x_train_val, x_val, y_train_val, y_val = train_test_split(x_train, y_train, test_size=0.2, random_state=165)"
   ]
  },
  {
   "cell_type": "code",
   "execution_count": 9,
   "metadata": {
    "execution": {
     "iopub.execute_input": "2022-02-17T17:14:07.512573Z",
     "iopub.status.busy": "2022-02-17T17:14:07.512034Z",
     "iopub.status.idle": "2022-02-17T17:14:14.044411Z",
     "shell.execute_reply": "2022-02-17T17:14:14.043164Z",
     "shell.execute_reply.started": "2022-02-17T17:14:07.512521Z"
    }
   },
   "outputs": [],
   "source": [
    "scaler = StandardScaler()\n",
    "x_train_val_sc = scaler.fit_transform(x_train_val)\n",
    "x_val_sc = scaler.transform(x_val)\n",
    "x_test_sc = scaler.transform(x_test)\n",
    "\n",
    "PCA = PCA(n_components=50)\n",
    "x_train_val_sc_pca = PCA.fit_transform(x_train_val_sc)\n",
    "x_val_sc_pca = PCA.transform(x_val_sc)\n",
    "x_test_sc_pca = PCA.transform(x_test_sc)"
   ]
  },
  {
   "cell_type": "code",
   "execution_count": 10,
   "metadata": {
    "execution": {
     "iopub.execute_input": "2022-02-17T17:14:27.474735Z",
     "iopub.status.busy": "2022-02-17T17:14:27.474433Z",
     "iopub.status.idle": "2022-02-17T17:19:16.973567Z",
     "shell.execute_reply": "2022-02-17T17:19:16.972756Z",
     "shell.execute_reply.started": "2022-02-17T17:14:27.474704Z"
    }
   },
   "outputs": [],
   "source": [
    "iteration_list = [20, 50, 80, 110, 140, 170]\n",
    "lr_list = [0.01, 0.05, 0.1, 0.2, 0.3]\n",
    "accuracy_lgb = dict()\n",
    "\n",
    "for num_iterations in iteration_list:\n",
    "    for lr in lr_list:\n",
    "        lgb = LGBMClassifier(num_iterations=num_iterations, learning_rate=lr).fit(x_train_val_sc_pca, y_train_val)\n",
    "        y_pred = lgb.predict(x_val_sc_pca)\n",
    "        \n",
    "        accuracy_lgb[num_iterations, lr] = accuracy_score(y_pred, y_val)"
   ]
  },
  {
   "cell_type": "code",
   "execution_count": 11,
   "metadata": {
    "execution": {
     "iopub.execute_input": "2022-02-17T17:19:16.975933Z",
     "iopub.status.busy": "2022-02-17T17:19:16.975286Z",
     "iopub.status.idle": "2022-02-17T17:19:16.981953Z",
     "shell.execute_reply": "2022-02-17T17:19:16.981316Z",
     "shell.execute_reply.started": "2022-02-17T17:19:16.975886Z"
    }
   },
   "outputs": [],
   "source": [
    "num_iterations, lr = max(accuracy_lgb, key=accuracy_lgb.get)"
   ]
  },
  {
   "cell_type": "code",
   "execution_count": 14,
   "metadata": {
    "execution": {
     "iopub.execute_input": "2022-02-17T17:20:53.726692Z",
     "iopub.status.busy": "2022-02-17T17:20:53.725801Z",
     "iopub.status.idle": "2022-02-17T17:20:53.732846Z",
     "shell.execute_reply": "2022-02-17T17:20:53.731848Z",
     "shell.execute_reply.started": "2022-02-17T17:20:53.726628Z"
    }
   },
   "outputs": [
    {
     "data": {
      "text/plain": [
       "(170, 0.2)"
      ]
     },
     "execution_count": 14,
     "metadata": {},
     "output_type": "execute_result"
    }
   ],
   "source": [
    "num_iterations, lr"
   ]
  },
  {
   "cell_type": "code",
   "execution_count": 15,
   "metadata": {
    "execution": {
     "iopub.execute_input": "2022-02-17T17:21:01.358386Z",
     "iopub.status.busy": "2022-02-17T17:21:01.358067Z",
     "iopub.status.idle": "2022-02-17T17:21:07.958497Z",
     "shell.execute_reply": "2022-02-17T17:21:07.957500Z",
     "shell.execute_reply.started": "2022-02-17T17:21:01.358351Z"
    }
   },
   "outputs": [],
   "source": [
    "fit_start_lgb = time.time()\n",
    "lgb = LGBMClassifier(num_iterations=num_iterations, learning_rate=lr).fit(x_train_val_sc_pca[:10000], y_train_val[:10000])\n",
    "fit_time['lgb'] = time.time() - fit_start_lgb"
   ]
  },
  {
   "cell_type": "code",
   "execution_count": 16,
   "metadata": {
    "execution": {
     "iopub.execute_input": "2022-02-17T17:21:07.962344Z",
     "iopub.status.busy": "2022-02-17T17:21:07.962082Z",
     "iopub.status.idle": "2022-02-17T17:21:08.491231Z",
     "shell.execute_reply": "2022-02-17T17:21:08.490554Z",
     "shell.execute_reply.started": "2022-02-17T17:21:07.962312Z"
    }
   },
   "outputs": [],
   "source": [
    "pred_start_lgb = time.time()\n",
    "y_pred_lgb = lgb.predict(x_test_sc_pca)\n",
    "prediction_time['lgb'] = time.time() - pred_start_lgb"
   ]
  },
  {
   "cell_type": "code",
   "execution_count": 17,
   "metadata": {
    "execution": {
     "iopub.execute_input": "2022-02-17T17:21:09.828975Z",
     "iopub.status.busy": "2022-02-17T17:21:09.827797Z",
     "iopub.status.idle": "2022-02-17T17:21:09.835475Z",
     "shell.execute_reply": "2022-02-17T17:21:09.834747Z",
     "shell.execute_reply.started": "2022-02-17T17:21:09.828895Z"
    }
   },
   "outputs": [],
   "source": [
    "accuracy['lgb'] = accuracy_score(y_pred_lgb, y_test)"
   ]
  },
  {
   "cell_type": "code",
   "execution_count": 18,
   "metadata": {
    "execution": {
     "iopub.execute_input": "2022-02-17T17:21:46.014026Z",
     "iopub.status.busy": "2022-02-17T17:21:46.013712Z",
     "iopub.status.idle": "2022-02-17T17:21:46.021533Z",
     "shell.execute_reply": "2022-02-17T17:21:46.020290Z",
     "shell.execute_reply.started": "2022-02-17T17:21:46.013992Z"
    }
   },
   "outputs": [
    {
     "data": {
      "text/plain": [
       "({'linear': 0.6528, 'kernel': 0.848, 'rff': 0.8528, 'lgb': 0.8503},\n",
       " {'linear': 185.08938241004944,\n",
       "  'kernel': 2.405912160873413,\n",
       "  'rff': 151.1536545753479,\n",
       "  'lgb': 6.595494508743286},\n",
       " {'linear': 0.007741689682006836,\n",
       "  'kernel': 3.6356630325317383,\n",
       "  'rff': 53.32275724411011,\n",
       "  'lgb': 0.5252702236175537})"
      ]
     },
     "execution_count": 18,
     "metadata": {},
     "output_type": "execute_result"
    }
   ],
   "source": [
    "accuracy, fit_time, prediction_time"
   ]
  },
  {
   "cell_type": "markdown",
   "metadata": {},
   "source": [
    "Как можно заметить, по времени обучения самым затратным является svm на исходных признаках с линейным ядром, далее идет svm на случайных признаках (время обучения соизмеримо). При этом время обучения для lightgbm и svm на гауссовском ядре отличается на два порядка. \n",
    "\n",
    "Ситуация с применением немного иная: svm на линейном ядре совершает предсказания практически мгновенно (что довольно ожидаемо), в то время как применение svm на случайных признаках оказалось самым долгим\n",
    "\n",
    "Что касается качества, то здесь бустинг и svm на случайных признаках показали соизмеримое качество.\n",
    "\n",
    "Таким образом, можно сделать вывод о том, что, учитывая три приведенных показателя, lightgbm является более предпочтительным, чем svm на случайных признаках и svm на исходных с линейным ядром"
   ]
  },
  {
   "cell_type": "markdown",
   "metadata": {
    "id": "e6umjhWuK-hV"
   },
   "source": [
    "__Задание 3. (2 балла)__\n",
    "\n",
    "Проведите эксперименты:\n",
    "1. Помогает ли предварительное понижение размерности с помощью PCA? \n",
    "2. Как зависит итоговое качество от n_features? Выходит ли оно на плато при росте n_features?\n",
    "3. Важно ли, какую модель обучать — логистическую регрессию или SVM?"
   ]
  },
  {
   "cell_type": "code",
   "execution_count": 20,
   "metadata": {
    "execution": {
     "iopub.execute_input": "2022-02-17T17:22:22.178030Z",
     "iopub.status.busy": "2022-02-17T17:22:22.176837Z",
     "iopub.status.idle": "2022-02-17T17:22:23.710828Z",
     "shell.execute_reply": "2022-02-17T17:22:23.709751Z",
     "shell.execute_reply.started": "2022-02-17T17:22:22.177966Z"
    }
   },
   "outputs": [],
   "source": [
    "scaler_test = StandardScaler()\n",
    "x_train_sc = scaler_test.fit_transform(x_train)\n",
    "x_test_sc = scaler_test.transform(x_test)"
   ]
  },
  {
   "cell_type": "code",
   "execution_count": 40,
   "metadata": {
    "execution": {
     "iopub.execute_input": "2022-02-17T17:43:57.253082Z",
     "iopub.status.busy": "2022-02-17T17:43:57.252795Z",
     "iopub.status.idle": "2022-02-17T17:43:57.257836Z",
     "shell.execute_reply": "2022-02-17T17:43:57.256845Z",
     "shell.execute_reply.started": "2022-02-17T17:43:57.253052Z"
    },
    "id": "HSxvGI9iK-hX"
   },
   "outputs": [],
   "source": [
    "svm = RFFPipeline(classifier='svm', use_PCA=False)\n",
    "svm_pca = RFFPipeline(classifier='svm')"
   ]
  },
  {
   "cell_type": "code",
   "execution_count": 22,
   "metadata": {
    "execution": {
     "iopub.execute_input": "2022-02-17T17:22:28.286759Z",
     "iopub.status.busy": "2022-02-17T17:22:28.285798Z",
     "iopub.status.idle": "2022-02-17T17:22:28.291608Z",
     "shell.execute_reply": "2022-02-17T17:22:28.290997Z",
     "shell.execute_reply.started": "2022-02-17T17:22:28.286713Z"
    }
   },
   "outputs": [],
   "source": [
    "fit_time = dict()\n",
    "prediction_time = dict()\n",
    "accuracy = dict()"
   ]
  },
  {
   "cell_type": "code",
   "execution_count": 41,
   "metadata": {
    "execution": {
     "iopub.execute_input": "2022-02-17T17:43:59.322131Z",
     "iopub.status.busy": "2022-02-17T17:43:59.321849Z",
     "iopub.status.idle": "2022-02-17T17:49:34.328404Z",
     "shell.execute_reply": "2022-02-17T17:49:34.327351Z",
     "shell.execute_reply.started": "2022-02-17T17:43:59.322103Z"
    }
   },
   "outputs": [],
   "source": [
    "start_svm = time.time()\n",
    "svm.fit(x_train_sc[:10000], y_train[:10000])\n",
    "fit_time['svm no pca'] = time.time() - start_svm\n",
    "\n",
    "start_svm_pca = time.time()\n",
    "svm_pca.fit(x_train_sc[:10000], y_train[:10000])\n",
    "fit_time['svm pca'] = time.time() - start_svm_pca"
   ]
  },
  {
   "cell_type": "code",
   "execution_count": 42,
   "metadata": {
    "execution": {
     "iopub.execute_input": "2022-02-17T17:49:34.330736Z",
     "iopub.status.busy": "2022-02-17T17:49:34.330473Z",
     "iopub.status.idle": "2022-02-17T17:51:30.625491Z",
     "shell.execute_reply": "2022-02-17T17:51:30.624554Z",
     "shell.execute_reply.started": "2022-02-17T17:49:34.330693Z"
    }
   },
   "outputs": [],
   "source": [
    "pred_start_svm = time.time()\n",
    "y_svm_pred = svm.predict(x_test_sc)\n",
    "prediction_time['svm no pca'] = time.time() - pred_start_svm\n",
    "\n",
    "pred_start_svm_pca = time.time()\n",
    "y_svm_pca_pred = svm_pca.predict(x_test_sc)\n",
    "prediction_time['svm pca'] = time.time() - pred_start_svm_pca"
   ]
  },
  {
   "cell_type": "code",
   "execution_count": 43,
   "metadata": {
    "execution": {
     "iopub.execute_input": "2022-02-17T17:51:30.627339Z",
     "iopub.status.busy": "2022-02-17T17:51:30.627104Z",
     "iopub.status.idle": "2022-02-17T17:51:30.633705Z",
     "shell.execute_reply": "2022-02-17T17:51:30.632826Z",
     "shell.execute_reply.started": "2022-02-17T17:51:30.627311Z"
    }
   },
   "outputs": [],
   "source": [
    "accuracy['svm no pca'] = accuracy_score(y_svm_pred, y_test)\n",
    "accuracy['svm pca'] = accuracy_score(y_svm_pca_pred, y_test)"
   ]
  },
  {
   "cell_type": "code",
   "execution_count": 45,
   "metadata": {
    "execution": {
     "iopub.execute_input": "2022-02-17T17:52:51.168884Z",
     "iopub.status.busy": "2022-02-17T17:52:51.168529Z",
     "iopub.status.idle": "2022-02-17T17:52:51.177050Z",
     "shell.execute_reply": "2022-02-17T17:52:51.175620Z",
     "shell.execute_reply.started": "2022-02-17T17:52:51.168844Z"
    }
   },
   "outputs": [
    {
     "data": {
      "text/plain": [
       "{'svm no pca': 0.8315, 'svm pca': 0.8494}"
      ]
     },
     "execution_count": 45,
     "metadata": {},
     "output_type": "execute_result"
    }
   ],
   "source": [
    "accuracy"
   ]
  },
  {
   "cell_type": "code",
   "execution_count": 46,
   "metadata": {
    "execution": {
     "iopub.execute_input": "2022-02-17T17:53:04.234533Z",
     "iopub.status.busy": "2022-02-17T17:53:04.234040Z",
     "iopub.status.idle": "2022-02-17T17:53:04.241344Z",
     "shell.execute_reply": "2022-02-17T17:53:04.240468Z",
     "shell.execute_reply.started": "2022-02-17T17:53:04.234482Z"
    }
   },
   "outputs": [
    {
     "data": {
      "text/plain": [
       "{'svm no pca': 177.53473567962646, 'svm pca': 157.46567058563232}"
      ]
     },
     "execution_count": 46,
     "metadata": {},
     "output_type": "execute_result"
    }
   ],
   "source": [
    "fit_time"
   ]
  },
  {
   "cell_type": "code",
   "execution_count": 47,
   "metadata": {
    "execution": {
     "iopub.execute_input": "2022-02-17T17:53:17.335574Z",
     "iopub.status.busy": "2022-02-17T17:53:17.334965Z",
     "iopub.status.idle": "2022-02-17T17:53:17.342542Z",
     "shell.execute_reply": "2022-02-17T17:53:17.341838Z",
     "shell.execute_reply.started": "2022-02-17T17:53:17.335522Z"
    }
   },
   "outputs": [
    {
     "data": {
      "text/plain": [
       "{'svm no pca': 62.889227628707886, 'svm pca': 53.39995574951172}"
      ]
     },
     "execution_count": 47,
     "metadata": {},
     "output_type": "execute_result"
    }
   ],
   "source": [
    "prediction_time"
   ]
  },
  {
   "cell_type": "markdown",
   "metadata": {},
   "source": [
    "Если рассматривать только приведенные показатели (качество, время обучения, время предикта), то очевидно, что использование pca дает ощутимое преимущество как при обучении, так и при применении"
   ]
  },
  {
   "cell_type": "code",
   "execution_count": 48,
   "metadata": {
    "execution": {
     "iopub.execute_input": "2022-02-17T17:54:33.929885Z",
     "iopub.status.busy": "2022-02-17T17:54:33.929506Z",
     "iopub.status.idle": "2022-02-17T19:32:09.332118Z",
     "shell.execute_reply": "2022-02-17T19:32:09.330746Z",
     "shell.execute_reply.started": "2022-02-17T17:54:33.929848Z"
    }
   },
   "outputs": [
    {
     "ename": "KeyboardInterrupt",
     "evalue": "",
     "output_type": "error",
     "traceback": [
      "\u001b[0;31m---------------------------------------------------------------------------\u001b[0m",
      "\u001b[0;31mKeyboardInterrupt\u001b[0m                         Traceback (most recent call last)",
      "\u001b[0;32m/tmp/ipykernel_162/2317667965.py\u001b[0m in \u001b[0;36m<module>\u001b[0;34m\u001b[0m\n\u001b[1;32m      3\u001b[0m \u001b[0;34m\u001b[0m\u001b[0m\n\u001b[1;32m      4\u001b[0m \u001b[0;32mfor\u001b[0m \u001b[0mn_features\u001b[0m \u001b[0;32min\u001b[0m \u001b[0;34m[\u001b[0m\u001b[0;36m100\u001b[0m\u001b[0;34m,\u001b[0m \u001b[0;36m200\u001b[0m\u001b[0;34m,\u001b[0m \u001b[0;36m300\u001b[0m\u001b[0;34m,\u001b[0m \u001b[0;36m500\u001b[0m\u001b[0;34m,\u001b[0m \u001b[0;36m700\u001b[0m\u001b[0;34m,\u001b[0m \u001b[0;36m1000\u001b[0m\u001b[0;34m,\u001b[0m \u001b[0;36m1300\u001b[0m\u001b[0;34m,\u001b[0m \u001b[0;36m1600\u001b[0m\u001b[0;34m,\u001b[0m \u001b[0;36m2000\u001b[0m\u001b[0;34m,\u001b[0m \u001b[0;36m2500\u001b[0m\u001b[0;34m,\u001b[0m \u001b[0;36m3100\u001b[0m\u001b[0;34m]\u001b[0m\u001b[0;34m:\u001b[0m\u001b[0;34m\u001b[0m\u001b[0;34m\u001b[0m\u001b[0m\n\u001b[0;32m----> 5\u001b[0;31m     \u001b[0msvm_test\u001b[0m \u001b[0;34m=\u001b[0m \u001b[0mRFFPipeline\u001b[0m\u001b[0;34m(\u001b[0m\u001b[0mn_features\u001b[0m\u001b[0;34m=\u001b[0m\u001b[0mn_features\u001b[0m\u001b[0;34m,\u001b[0m \u001b[0mclassifier\u001b[0m\u001b[0;34m=\u001b[0m\u001b[0;34m'svm'\u001b[0m\u001b[0;34m)\u001b[0m\u001b[0;34m.\u001b[0m\u001b[0mfit\u001b[0m\u001b[0;34m(\u001b[0m\u001b[0mx_train_sc\u001b[0m\u001b[0;34m[\u001b[0m\u001b[0;34m:\u001b[0m\u001b[0;36m10000\u001b[0m\u001b[0;34m]\u001b[0m\u001b[0;34m,\u001b[0m \u001b[0my_train\u001b[0m\u001b[0;34m[\u001b[0m\u001b[0;34m:\u001b[0m\u001b[0;36m10000\u001b[0m\u001b[0;34m]\u001b[0m\u001b[0;34m)\u001b[0m\u001b[0;34m\u001b[0m\u001b[0;34m\u001b[0m\u001b[0m\n\u001b[0m\u001b[1;32m      6\u001b[0m     \u001b[0my_pred_svm\u001b[0m \u001b[0;34m=\u001b[0m \u001b[0msvm_test\u001b[0m\u001b[0;34m.\u001b[0m\u001b[0mpredict\u001b[0m\u001b[0;34m(\u001b[0m\u001b[0mx_test_sc\u001b[0m\u001b[0;34m)\u001b[0m\u001b[0;34m\u001b[0m\u001b[0;34m\u001b[0m\u001b[0m\n\u001b[1;32m      7\u001b[0m \u001b[0;34m\u001b[0m\u001b[0m\n",
      "\u001b[0;32m/tmp/ipykernel_162/837979330.py\u001b[0m in \u001b[0;36mfit\u001b[0;34m(self, X, y)\u001b[0m\n\u001b[1;32m     49\u001b[0m             \u001b[0mmodel\u001b[0m \u001b[0;34m=\u001b[0m \u001b[0mLogisticRegression\u001b[0m\u001b[0;34m(\u001b[0m\u001b[0mmax_iter\u001b[0m\u001b[0;34m=\u001b[0m\u001b[0;36m10\u001b[0m\u001b[0;34m**\u001b[0m\u001b[0;36m4\u001b[0m\u001b[0;34m)\u001b[0m\u001b[0;34m\u001b[0m\u001b[0;34m\u001b[0m\u001b[0m\n\u001b[1;32m     50\u001b[0m \u001b[0;34m\u001b[0m\u001b[0m\n\u001b[0;32m---> 51\u001b[0;31m         \u001b[0mmodel\u001b[0m\u001b[0;34m.\u001b[0m\u001b[0mfit\u001b[0m\u001b[0;34m(\u001b[0m\u001b[0mX_kernel\u001b[0m\u001b[0;34m,\u001b[0m \u001b[0my\u001b[0m\u001b[0;34m)\u001b[0m\u001b[0;34m\u001b[0m\u001b[0;34m\u001b[0m\u001b[0m\n\u001b[0m\u001b[1;32m     52\u001b[0m \u001b[0;34m\u001b[0m\u001b[0m\n\u001b[1;32m     53\u001b[0m         \u001b[0mself\u001b[0m\u001b[0;34m.\u001b[0m\u001b[0mw\u001b[0m \u001b[0;34m=\u001b[0m \u001b[0mw\u001b[0m\u001b[0;34m\u001b[0m\u001b[0;34m\u001b[0m\u001b[0m\n",
      "\u001b[0;32m/opt/conda/lib/python3.7/site-packages/sklearn/svm/_base.py\u001b[0m in \u001b[0;36mfit\u001b[0;34m(self, X, y, sample_weight)\u001b[0m\n\u001b[1;32m    215\u001b[0m \u001b[0;34m\u001b[0m\u001b[0m\n\u001b[1;32m    216\u001b[0m         \u001b[0mseed\u001b[0m \u001b[0;34m=\u001b[0m \u001b[0mrnd\u001b[0m\u001b[0;34m.\u001b[0m\u001b[0mrandint\u001b[0m\u001b[0;34m(\u001b[0m\u001b[0mnp\u001b[0m\u001b[0;34m.\u001b[0m\u001b[0miinfo\u001b[0m\u001b[0;34m(\u001b[0m\u001b[0;34m'i'\u001b[0m\u001b[0;34m)\u001b[0m\u001b[0;34m.\u001b[0m\u001b[0mmax\u001b[0m\u001b[0;34m)\u001b[0m\u001b[0;34m\u001b[0m\u001b[0;34m\u001b[0m\u001b[0m\n\u001b[0;32m--> 217\u001b[0;31m         \u001b[0mfit\u001b[0m\u001b[0;34m(\u001b[0m\u001b[0mX\u001b[0m\u001b[0;34m,\u001b[0m \u001b[0my\u001b[0m\u001b[0;34m,\u001b[0m \u001b[0msample_weight\u001b[0m\u001b[0;34m,\u001b[0m \u001b[0msolver_type\u001b[0m\u001b[0;34m,\u001b[0m \u001b[0mkernel\u001b[0m\u001b[0;34m,\u001b[0m \u001b[0mrandom_seed\u001b[0m\u001b[0;34m=\u001b[0m\u001b[0mseed\u001b[0m\u001b[0;34m)\u001b[0m\u001b[0;34m\u001b[0m\u001b[0;34m\u001b[0m\u001b[0m\n\u001b[0m\u001b[1;32m    218\u001b[0m         \u001b[0;31m# see comment on the other call to np.iinfo in this file\u001b[0m\u001b[0;34m\u001b[0m\u001b[0;34m\u001b[0m\u001b[0;34m\u001b[0m\u001b[0m\n\u001b[1;32m    219\u001b[0m \u001b[0;34m\u001b[0m\u001b[0m\n",
      "\u001b[0;32m/opt/conda/lib/python3.7/site-packages/sklearn/svm/_base.py\u001b[0m in \u001b[0;36m_dense_fit\u001b[0;34m(self, X, y, sample_weight, solver_type, kernel, random_seed)\u001b[0m\n\u001b[1;32m    274\u001b[0m                 \u001b[0mcache_size\u001b[0m\u001b[0;34m=\u001b[0m\u001b[0mself\u001b[0m\u001b[0;34m.\u001b[0m\u001b[0mcache_size\u001b[0m\u001b[0;34m,\u001b[0m \u001b[0mcoef0\u001b[0m\u001b[0;34m=\u001b[0m\u001b[0mself\u001b[0m\u001b[0;34m.\u001b[0m\u001b[0mcoef0\u001b[0m\u001b[0;34m,\u001b[0m\u001b[0;34m\u001b[0m\u001b[0;34m\u001b[0m\u001b[0m\n\u001b[1;32m    275\u001b[0m                 \u001b[0mgamma\u001b[0m\u001b[0;34m=\u001b[0m\u001b[0mself\u001b[0m\u001b[0;34m.\u001b[0m\u001b[0m_gamma\u001b[0m\u001b[0;34m,\u001b[0m \u001b[0mepsilon\u001b[0m\u001b[0;34m=\u001b[0m\u001b[0mself\u001b[0m\u001b[0;34m.\u001b[0m\u001b[0mepsilon\u001b[0m\u001b[0;34m,\u001b[0m\u001b[0;34m\u001b[0m\u001b[0;34m\u001b[0m\u001b[0m\n\u001b[0;32m--> 276\u001b[0;31m                 max_iter=self.max_iter, random_seed=random_seed)\n\u001b[0m\u001b[1;32m    277\u001b[0m \u001b[0;34m\u001b[0m\u001b[0m\n\u001b[1;32m    278\u001b[0m         \u001b[0mself\u001b[0m\u001b[0;34m.\u001b[0m\u001b[0m_warn_from_fit_status\u001b[0m\u001b[0;34m(\u001b[0m\u001b[0;34m)\u001b[0m\u001b[0;34m\u001b[0m\u001b[0;34m\u001b[0m\u001b[0m\n",
      "\u001b[0;31mKeyboardInterrupt\u001b[0m: "
     ]
    }
   ],
   "source": [
    "accuracy_test_svm = dict()\n",
    "accuracy_test_logreg = dict()\n",
    "\n",
    "for n_features in [100, 200, 300, 500, 700, 1000, 1300, 1600, 2000, 2500, 3100]:\n",
    "    svm_test = RFFPipeline(n_features=n_features, classifier='svm').fit(x_train_sc[:10000], y_train[:10000])\n",
    "    y_pred_svm = svm_test.predict(x_test_sc)\n",
    "    \n",
    "    logreg_test = RFFPipeline(n_features=n_features, classifier='logreg').fit(x_train_sc[:10000], y_train[:10000])\n",
    "    y_pred_logreg = logreg_test.predict(x_test_sc)\n",
    "    \n",
    "    accuracy_test_svm[n_features] = accuracy_score(y_pred_svm, y_test)\n",
    "    accuracy_test_logreg[n_features] = accuracy_score(y_pred_logreg, y_test) "
   ]
  },
  {
   "cell_type": "markdown",
   "metadata": {},
   "source": [
    "Обучил до 2500, так как не успевал(("
   ]
  },
  {
   "cell_type": "code",
   "execution_count": 51,
   "metadata": {
    "execution": {
     "iopub.execute_input": "2022-02-17T19:33:35.391482Z",
     "iopub.status.busy": "2022-02-17T19:33:35.390949Z",
     "iopub.status.idle": "2022-02-17T19:33:35.399829Z",
     "shell.execute_reply": "2022-02-17T19:33:35.398746Z",
     "shell.execute_reply.started": "2022-02-17T19:33:35.391430Z"
    }
   },
   "outputs": [
    {
     "data": {
      "text/plain": [
       "({100: 0.8325,\n",
       "  200: 0.8394,\n",
       "  300: 0.8433,\n",
       "  500: 0.8471,\n",
       "  700: 0.8438,\n",
       "  1000: 0.8449,\n",
       "  1300: 0.8441,\n",
       "  1600: 0.8466,\n",
       "  2000: 0.8438,\n",
       "  2500: 0.8419},\n",
       " {100: 0.8238,\n",
       "  200: 0.8398,\n",
       "  300: 0.8405,\n",
       "  500: 0.8429,\n",
       "  700: 0.8453,\n",
       "  1000: 0.8487,\n",
       "  1300: 0.8509,\n",
       "  1600: 0.8513,\n",
       "  2000: 0.8502,\n",
       "  2500: 0.8513})"
      ]
     },
     "execution_count": 51,
     "metadata": {},
     "output_type": "execute_result"
    }
   ],
   "source": [
    "accuracy_test_svm, accuracy_test_logreg"
   ]
  },
  {
   "cell_type": "code",
   "execution_count": 62,
   "metadata": {
    "execution": {
     "iopub.execute_input": "2022-02-17T19:37:33.178347Z",
     "iopub.status.busy": "2022-02-17T19:37:33.178063Z",
     "iopub.status.idle": "2022-02-17T19:37:33.515400Z",
     "shell.execute_reply": "2022-02-17T19:37:33.514523Z",
     "shell.execute_reply.started": "2022-02-17T19:37:33.178316Z"
    }
   },
   "outputs": [
    {
     "data": {
      "image/png": "[encoded data removed]",
      "text/plain": [
       "<Figure size 1440x720 with 1 Axes>"
      ]
     },
     "metadata": {
      "needs_background": "light"
     },
     "output_type": "display_data"
    }
   ],
   "source": [
    "fig, ax = plt.subplots(figsize=(20,10))\n",
    "sns.lineplot(data=accuracy_test_svm, ax=ax)\n",
    "sns.lineplot(data=accuracy_test_logreg, ax=ax)\n",
    "ax.legend(['svm', 'logreg'])\n",
    "ax.set_ylabel('accuracy')\n",
    "ax.set_title('Качество svm и logreg со случайными признаками в зависимости от n_features');"
   ]
  },
  {
   "cell_type": "markdown",
   "metadata": {},
   "source": [
    "По построенному графику видно, что со значения n_features = 500 svm выходит на плато, в то время как logreg только с 1200-1300"
   ]
  },
  {
   "cell_type": "markdown",
   "metadata": {},
   "source": [
    "Также стоит отметить, что logreg выдает в среднем более высокое качество (после n_features = 700 качество logreg не опускается ниже svm), поэтому при обучении на случайных признаках данная модель является более предпочтительной (если рассматривать только качество)"
   ]
  },
  {
   "cell_type": "markdown",
   "metadata": {
    "id": "CJqXVuasK-hW"
   },
   "source": [
    "### Бонус"
   ]
  },
  {
   "cell_type": "markdown",
   "metadata": {
    "id": "QVDWHCdrK-hX"
   },
   "source": [
    "__Задание 4. (Максимум 2 балла)__\n",
    "\n",
    "Как вы, должно быть, помните с курса МО-1, многие алгоритмы машинного обучения работают лучше, если признаки данных некоррелированы. Оказывается, что для RFF существует модификация, позволяющая получать ортогональные случайные признаки (Orthogonal Random Features, ORF). Об этом методе можно прочитать в [статье](https://proceedings.neurips.cc/paper/2016/file/53adaf494dc89ef7196d73636eb2451b-Paper.pdf). Реализуйте класс для вычисления ORF по аналогии с основным заданием. Обратите внимание, что ваш класс должен уметь работать со случаем n_features > new_dim (в статье есть замечание на этот счет). Проведите эксперименты, сравнивающие RFF и ORF, сделайте выводы."
   ]
  },
  {
   "cell_type": "code",
   "execution_count": null,
   "metadata": {},
   "outputs": [],
   "source": []
  },
  {
   "cell_type": "markdown",
   "metadata": {
    "id": "4pc7-1jmK-hY"
   },
   "source": [
    "__Задание 5. (Максимум 2 балла)__\n",
    "\n",
    "Поэкспериментируйте с функциями для вычисления новых случайных признаков. Не обязательно использовать косинус от скалярного произведения — можно брать знак от него, хэш и т.д. Придумайте побольше вариантов для генерации признаков и проверьте, не получается ли с их помощью добиваться более высокого качества. Также можете попробовать другой классификатор поверх случайных признаков, сравните результаты."
   ]
  },
  {
   "cell_type": "code",
   "execution_count": 69,
   "metadata": {
    "execution": {
     "iopub.execute_input": "2022-02-17T19:51:46.748304Z",
     "iopub.status.busy": "2022-02-17T19:51:46.747910Z",
     "iopub.status.idle": "2022-02-17T19:51:46.768533Z",
     "shell.execute_reply": "2022-02-17T19:51:46.767452Z",
     "shell.execute_reply.started": "2022-02-17T19:51:46.748267Z"
    }
   },
   "outputs": [],
   "source": [
    "from sklearn.base import BaseEstimator, TransformerMixin\n",
    "\n",
    "\n",
    "class RFFPipeline_func(BaseEstimator, TransformerMixin):\n",
    "    def __init__(self, n_features=1000, new_dim=50, use_PCA=True, classifier='logreg', func=np.cos):\n",
    "        \"\"\"        \n",
    "        Implements pipeline, which consists of PCA decomposition,\n",
    "        Random Fourier Features approximation and linear classification model.\n",
    "        \n",
    "        n_features, int: amount of synthetic random features generated with RFF approximation.\n",
    "\n",
    "        new_dim, int: PCA output size.\n",
    "        \n",
    "        use_PCA, bool: whether to include PCA preprocessing.\n",
    "        \n",
    "        classifier, string: either 'svm' or 'logreg', a linear classification model to use on top of pipeline.\n",
    "        \n",
    "        Feel free to edit this template for your preferences.    \n",
    "        \"\"\"\n",
    "        self.n_features = n_features\n",
    "        self.use_PCA = use_PCA\n",
    "        self.new_dim = new_dim\n",
    "        self.classifier = classifier\n",
    "        self.func = func\n",
    "        \n",
    "    def fit(self, X, y):\n",
    "        if self.use_PCA:\n",
    "            self.pca = PCA(n_components=self.new_dim)\n",
    "\n",
    "            X_pca = self.pca.fit_transform(X)\n",
    "    \n",
    "            dim = self.new_dim\n",
    "        else:\n",
    "            X_pca = X\n",
    "            dim = len(X.T)\n",
    "        \n",
    "        rand = np.random.randint(len(X) - 1, size=[2, 10**6]).reshape(-1,2)\n",
    "        sigma = np.sqrt(np.median(np.sum((X_pca[rand][:, 0] - X_pca[rand][:, 1]) ** 2, axis=1)))\n",
    "        w = np.random.normal(0, 1 / sigma, size=(self.n_features, dim))\n",
    "        b = np.random.uniform(-np.pi, np.pi, self.n_features)\n",
    "        \n",
    "        X_kernel = self.func((X_pca @ w.T) + b)\n",
    "        \n",
    "        if self.classifier == 'svm':\n",
    "            model = SVC(kernel='linear', probability=True)\n",
    "        else:\n",
    "            model = LogisticRegression(max_iter=10**4)\n",
    "        \n",
    "        model.fit(X_kernel, y)\n",
    "        \n",
    "        self.w = w\n",
    "        self.b = b\n",
    "        self.model = model\n",
    "        \n",
    "        return self\n",
    "\n",
    "    def predict_proba(self, X):\n",
    "        if self.use_PCA:\n",
    "            X = self.pca.transform(X)\n",
    "        else:\n",
    "            pass\n",
    "        \n",
    "        X = self.func((X @ self.w.T) + self.b)\n",
    "        \n",
    "        return self.model.predict_proba(X)\n",
    "        \n",
    "    def predict(self, X):\n",
    "        if self.use_PCA:\n",
    "            X = self.pca.transform(X)\n",
    "        else:\n",
    "            pass\n",
    "        \n",
    "        X = self.func((X @ self.w.T) + self.b)\n",
    "        \n",
    "        return self.model.predict(X)"
   ]
  },
  {
   "cell_type": "code",
   "execution_count": 78,
   "metadata": {
    "execution": {
     "iopub.execute_input": "2022-02-17T20:26:21.893622Z",
     "iopub.status.busy": "2022-02-17T20:26:21.893157Z",
     "iopub.status.idle": "2022-02-17T20:28:36.383932Z",
     "shell.execute_reply": "2022-02-17T20:28:36.382757Z",
     "shell.execute_reply.started": "2022-02-17T20:26:21.893578Z"
    }
   },
   "outputs": [
    {
     "data": {
      "text/plain": [
       "0.8361"
      ]
     },
     "execution_count": 78,
     "metadata": {},
     "output_type": "execute_result"
    }
   ],
   "source": [
    "model = RFFPipeline_func(func=np.cos).fit(x_train_sc[:5000], y_train[:5000])\n",
    "y_func_pred = model.predict(x_test_sc)\n",
    "accuracy_score(y_func_pred, y_test)"
   ]
  },
  {
   "cell_type": "code",
   "execution_count": 75,
   "metadata": {
    "execution": {
     "iopub.execute_input": "2022-02-17T20:08:51.054501Z",
     "iopub.status.busy": "2022-02-17T20:08:51.053321Z",
     "iopub.status.idle": "2022-02-17T20:09:40.448697Z",
     "shell.execute_reply": "2022-02-17T20:09:40.447674Z",
     "shell.execute_reply.started": "2022-02-17T20:08:51.054453Z"
    }
   },
   "outputs": [
    {
     "data": {
      "text/plain": [
       "0.7698"
      ]
     },
     "execution_count": 75,
     "metadata": {},
     "output_type": "execute_result"
    }
   ],
   "source": [
    "model = RFFPipeline_func(func=np.cosh).fit(x_train_sc[:5000], y_train[:5000])\n",
    "y_func_pred = model.predict(x_test_sc)\n",
    "accuracy_score(y_func_pred, y_test)"
   ]
  },
  {
   "cell_type": "code",
   "execution_count": 80,
   "metadata": {
    "execution": {
     "iopub.execute_input": "2022-02-17T20:37:10.768948Z",
     "iopub.status.busy": "2022-02-17T20:37:10.768489Z",
     "iopub.status.idle": "2022-02-17T20:38:46.711844Z",
     "shell.execute_reply": "2022-02-17T20:38:46.710645Z",
     "shell.execute_reply.started": "2022-02-17T20:37:10.768916Z"
    }
   },
   "outputs": [
    {
     "data": {
      "text/plain": [
       "0.767"
      ]
     },
     "execution_count": 80,
     "metadata": {},
     "output_type": "execute_result"
    }
   ],
   "source": [
    "model = RFFPipeline_func(func=np.sign).fit(x_train_sc[:5000], y_train[:5000])\n",
    "y_func_pred = model.predict(x_test_sc)\n",
    "accuracy_score(y_func_pred, y_test)"
   ]
  },
  {
   "cell_type": "code",
   "execution_count": 81,
   "metadata": {
    "execution": {
     "iopub.execute_input": "2022-02-17T20:38:46.715209Z",
     "iopub.status.busy": "2022-02-17T20:38:46.714455Z",
     "iopub.status.idle": "2022-02-17T20:42:03.339883Z",
     "shell.execute_reply": "2022-02-17T20:42:03.338884Z",
     "shell.execute_reply.started": "2022-02-17T20:38:46.715147Z"
    }
   },
   "outputs": [
    {
     "data": {
      "text/plain": [
       "0.8333"
      ]
     },
     "execution_count": 81,
     "metadata": {},
     "output_type": "execute_result"
    }
   ],
   "source": [
    "model = RFFPipeline_func(func=np.tanh).fit(x_train_sc[:5000], y_train[:5000])\n",
    "y_func_pred = model.predict(x_test_sc)\n",
    "accuracy_score(y_func_pred, y_test)"
   ]
  },
  {
   "cell_type": "markdown",
   "metadata": {},
   "source": [
    "Мы убедились в том, что ни одна из приведенных функций не смогла выдать качество выше косинуса"
   ]
  },
  {
   "cell_type": "code",
   "execution_count": null,
   "metadata": {},
   "outputs": [],
   "source": []
  }
 ],
 "metadata": {
  "kernelspec": {
   "display_name": "Python 3",
   "language": "python",
   "name": "python3"
  },
  "language_info": {
   "codemirror_mode": {
    "name": "ipython",
    "version": 3
   },
   "file_extension": ".py",
   "mimetype": "text/x-python",
   "name": "python",
   "nbconvert_exporter": "python",
   "pygments_lexer": "ipython3",
   "version": "3.8.8"
  }
 },
 "nbformat": 4,
 "nbformat_minor": 4
}
